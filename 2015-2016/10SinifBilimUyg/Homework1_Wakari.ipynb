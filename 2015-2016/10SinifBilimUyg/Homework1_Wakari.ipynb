{
 "metadata": {
  "kernelspec": {
   "display_name": "Python 3",
   "language": "python",
   "name": "python3"
  },
  "language_info": {
   "codemirror_mode": {
    "name": "ipython",
    "version": 3
   },
   "file_extension": ".py",
   "mimetype": "text/x-python",
   "name": "python",
   "nbconvert_exporter": "python",
   "pygments_lexer": "ipython3",
   "version": "3.4.3+"
  },
  "name": ""
 },
 "nbformat": 3,
 "nbformat_minor": 0,
 "worksheets": [
  {
   "cells": [
    {
     "cell_type": "markdown",
     "metadata": {},
     "source": [
      "# IPython'u hesap makinas\u0131 gibi kullanmak \n",
      "\n",
      " ## Aritmetik \u0130\u015fle\u00e7ler \n",
      "Bu derste ipyton ile baz\u0131 temel hesaplamalar\u0131 nas\u0131l yapaca\u011f\u0131m\u0131z\u0131 \u00f6\u011frenece\u011fiz. Matematik derslerinde daha \u00f6nce g\u00f6rd\u00fc\u011f\u00fcm\u00fcz \u00fczere, sa\u011f\u0131ndaki ve solundaki de\u011ferler aras\u0131nda bir ili\u015fki kuran i\u015faretlere i\u015fle\u00e7 (operator) ad\u0131 verilir. Python'da baz\u0131 i\u015fle\u00e7ler a\u015fa\u011f\u0131daki tabloda verilmi\u015ftir.\n",
      "\n",
      "|\u0130\u015fle\u00e7 | G\u00f6rev|\n",
      "|------|------|\n",
      "|`+`| toplama|\n",
      "|`-`| \u00e7\u0131karma|\n",
      "|`*`| \u00e7arprma|\n",
      "|`/`| b\u00f6lme |\n",
      "\n",
      "Yukar\u0131daki i\u015fle\u00e7leri a\u015fa\u011f\u0131da deneyelim. Hesaplamalar\u0131 yapmak i\u00e7in herbir h\u00fccre de  \"Shift-Enter\" e basmay\u0131 unutmay\u0131n. "
     ]
    },
    {
     "cell_type": "code",
     "collapsed": false,
     "input": [
      "3+8 # toplama i\u015flemi "
     ],
     "language": "python",
     "metadata": {},
     "outputs": [
      {
       "metadata": {},
       "output_type": "pyout",
       "prompt_number": 7,
       "text": [
        "11"
       ]
      }
     ],
     "prompt_number": 7
    },
    {
     "cell_type": "code",
     "collapsed": false,
     "input": [
      "3-8"
     ],
     "language": "python",
     "metadata": {},
     "outputs": [
      {
       "metadata": {},
       "output_type": "pyout",
       "prompt_number": 9,
       "text": [
        "-5"
       ]
      }
     ],
     "prompt_number": 9
    },
    {
     "cell_type": "code",
     "collapsed": false,
     "input": [
      "3*8"
     ],
     "language": "python",
     "metadata": {},
     "outputs": [
      {
       "metadata": {},
       "output_type": "pyout",
       "prompt_number": 10,
       "text": [
        "24"
       ]
      }
     ],
     "prompt_number": 10
    },
    {
     "cell_type": "code",
     "collapsed": false,
     "input": [
      "3/8 # E\u011fer bu i\u015flemi Python 2'de yaparsan\u0131z s\u0131f\u0131r al\u0131rs\u0131n\u0131z.\n",
      "    # Python 2'de 3.0/8 \u015feklinde yazman\u0131z gerekir. "
     ],
     "language": "python",
     "metadata": {},
     "outputs": [
      {
       "metadata": {},
       "output_type": "pyout",
       "prompt_number": 16,
       "text": [
        "0.375"
       ]
      }
     ],
     "prompt_number": 16
    },
    {
     "cell_type": "markdown",
     "metadata": {},
     "source": [
      "### Soru:\n",
      "`%` ,`//`, `**` i\u015fle\u00e7lerinin ne i\u015fe yarad\u0131\u011f\u0131n\u0131 tahmin ediniz. Her iki i\u015flemci i\u00e7in en az iki \u00f6rnek verip, k\u00fc\u00e7\u00fck bir a\u00e7\u0131klama yap\u0131n\u0131z. A\u00e7\u0131klamay\u0131 cevap k\u0131sm\u0131na yaz\u0131n\u0131z. x\n",
      "### Cevap:"
     ]
    },
    {
     "cell_type": "code",
     "collapsed": true,
     "input": [
      " # Kodunuzu buraya yaz\u0131n\u0131z. Her bir i\u015flemi farkl\u0131 h\u00fccrelerde \n",
      "    # ger\u00e7ekle\u015ftiriniz. A\u00e7\u0131klama kullanmak i\u00e7in i\u015flemin yan\u0131na # i\u015faretinden \n",
      "    # sonra a\u00e7\u0131klaman\u0131z\u0131 yap\u0131n\u0131z. "
     ],
     "language": "python",
     "metadata": {},
     "outputs": [],
     "prompt_number": 17
    },
    {
     "cell_type": "markdown",
     "metadata": {},
     "source": [
      "Bazen matematikte kulland\u0131\u011f\u0131m\u0131z g\u00f6sterimler, Python'da \u00e7al\u0131\u015fm\u0131yabilir. Mesela $2(3+4)$'\u00fcn 14 oldu\u011funu hesap edebilirsiniz. Fakat Python'da bu komutu verdi\u011finizde "
     ]
    },
    {
     "cell_type": "code",
     "collapsed": false,
     "input": [
      "2(3+4)"
     ],
     "language": "python",
     "metadata": {},
     "outputs": [
      {
       "ename": "TypeError",
       "evalue": "'int' object is not callable",
       "output_type": "pyerr",
       "traceback": [
        "\u001b[1;31m---------------------------------------------------------------------------\u001b[0m",
        "\u001b[1;31mTypeError\u001b[0m                                 Traceback (most recent call last)",
        "\u001b[1;32m<ipython-input-19-c98c8d9d5d8d>\u001b[0m in \u001b[0;36m<module>\u001b[1;34m()\u001b[0m\n\u001b[1;32m----> 1\u001b[1;33m \u001b[1;36m2\u001b[0m\u001b[1;33m(\u001b[0m\u001b[1;36m3\u001b[0m\u001b[1;33m+\u001b[0m\u001b[1;36m4\u001b[0m\u001b[1;33m)\u001b[0m\u001b[1;33m\u001b[0m\u001b[0m\n\u001b[0m",
        "\u001b[1;31mTypeError\u001b[0m: 'int' object is not callable"
       ]
      }
     ],
     "prompt_number": 19
    },
    {
     "cell_type": "markdown",
     "metadata": {},
     "source": [
      "Burda Python bir hata verdi. Python ayn\u0131 zamanda hatan\u0131n ne oldu\u011funu da s\u00f6yl\u00fcyor. Fakat bu pek a\u00e7\u0131klayac\u0131 de\u011fil. Normalda \u015f\u00f6yle yazmal\u0131yd\u0131k."
     ]
    },
    {
     "cell_type": "code",
     "collapsed": false,
     "input": [
      "2*(3+4)"
     ],
     "language": "python",
     "metadata": {},
     "outputs": [
      {
       "metadata": {},
       "output_type": "pyout",
       "prompt_number": 20,
       "text": [
        "14"
       ]
      }
     ],
     "prompt_number": 20
    },
    {
     "cell_type": "markdown",
     "metadata": {},
     "source": [
      "\u015eimdi istedi\u011fimiz gibi oldu. \u00c7arpma i\u015flecini ihmal edebilece\u011fimizi d\u00fc\u015f\u00fcnm\u00fc\u015f olabilirsiniz. Fakat Python'da her\u015feyi a\u00e7\u0131k olarak yazmal\u0131s\u0131n\u0131z. "
     ]
    },
    {
     "cell_type": "markdown",
     "metadata": {},
     "source": [
      "## \u0130\u015flem \u00d6nceli\u011fi \n",
      "Python'da i\u015fle\u00e7lerin \u00f6ncelikleri vard\u0131r. \u00d6rnek olarak $3\\times 5 +2$ i\u015flemini yapt\u0131\u011f\u0131n\u0131zda her zaman \u00e7arpma i\u015flemini \u00f6nce yapars\u0131n\u0131z. Python da  matematikteki \u00f6ncelik s\u0131ras\u0131n\u0131n ayn\u0131s\u0131na uyar. A\u015fa\u011f\u0131daki hesaplamalar\u0131 kafadan yap\u0131n\u0131z ve daha sonra i\u015flemi Python'a yapt\u0131r\u0131p,  kendinizi kontrol ediniz. \n",
      "\n",
      "### Soru\n",
      "A\u015fa\u011f\u0131daki i\u015flemleri sonu\u00e7lar\u0131n\u0131 tahmin ediniz ve kodu \u00e7al\u0131\u015ft\u0131rmak i\u00e7in diyez (`#`) i\u015faretini kald\u0131r\u0131p, `Shift-Enter`'a bas\u0131n\u0131z.  "
     ]
    },
    {
     "cell_type": "code",
     "collapsed": false,
     "input": [
      "# 3*2**2 "
     ],
     "language": "python",
     "metadata": {},
     "outputs": [],
     "prompt_number": 28
    },
    {
     "cell_type": "code",
     "collapsed": true,
     "input": [
      "# (3*2)**2"
     ],
     "language": "python",
     "metadata": {},
     "outputs": [],
     "prompt_number": 27
    },
    {
     "cell_type": "code",
     "collapsed": true,
     "input": [
      "# 3*2**(2-1)"
     ],
     "language": "python",
     "metadata": {},
     "outputs": [],
     "prompt_number": 29
    },
    {
     "cell_type": "markdown",
     "metadata": {},
     "source": [
      "Yukaradaki i\u015flemlerden \u00e7\u0131kaca\u011f\u0131m\u0131z sonu\u00e7: Her zaman **parantez i\u00e7inin** \u00f6nceli\u011fi, matematik i\u015fle\u00e7lerden \u00f6ncedir. "
     ]
    },
    {
     "cell_type": "markdown",
     "metadata": {},
     "source": [
      "## De\u011fi\u015fkenler \n",
      "\n",
      "Herhangi bir say\u0131y\u0131 bir de\u011fi\u015fkende saklayabiliriz. x de\u011fi\u015fkenine 5 say\u0131s\u0131n\u0131 atayal\u0131m.  Bir de\u011fi\u015fkene say\u0131 atad\u0131\u011f\u0131m\u0131zda bunun \u00e7\u0131kt\u0131s\u0131 yoktur."
     ]
    },
    {
     "cell_type": "code",
     "collapsed": true,
     "input": [
      "x=5"
     ],
     "language": "python",
     "metadata": {},
     "outputs": [],
     "prompt_number": 31
    },
    {
     "cell_type": "code",
     "collapsed": false,
     "input": [
      "x"
     ],
     "language": "python",
     "metadata": {},
     "outputs": [
      {
       "metadata": {},
       "output_type": "pyout",
       "prompt_number": 32,
       "text": [
        "5"
       ]
      }
     ],
     "prompt_number": 32
    },
    {
     "cell_type": "markdown",
     "metadata": {},
     "source": [
      "E\u011fer bir say\u0131 atanmam\u0131\u015f de\u011fi\u015fkeni \u00e7a\u011f\u0131r\u0131rsak, Python bize hata verir. "
     ]
    },
    {
     "cell_type": "code",
     "collapsed": false,
     "input": [
      "y"
     ],
     "language": "python",
     "metadata": {},
     "outputs": [
      {
       "ename": "NameError",
       "evalue": "name 'y' is not defined",
       "output_type": "pyerr",
       "traceback": [
        "\u001b[1;31m---------------------------------------------------------------------------\u001b[0m",
        "\u001b[1;31mNameError\u001b[0m                                 Traceback (most recent call last)",
        "\u001b[1;32m<ipython-input-33-009520053b00>\u001b[0m in \u001b[0;36m<module>\u001b[1;34m()\u001b[0m\n\u001b[1;32m----> 1\u001b[1;33m \u001b[0my\u001b[0m\u001b[1;33m\u001b[0m\u001b[0m\n\u001b[0m",
        "\u001b[1;31mNameError\u001b[0m: name 'y' is not defined"
       ]
      }
     ],
     "prompt_number": 33
    },
    {
     "cell_type": "markdown",
     "metadata": {},
     "source": [
      "Yukar\u0131da g\u00f6r\u00fcld\u00fc\u011f\u00fc gibi Python bize hat verdi. Bu sefer Python bize hatan\u0131n ne oldu\u011funu a\u00e7\u0131kca s\u00f6yl\u00fcyor. y'nin tan\u0131mlanmad\u0131\u011f\u0131n\u0131 s\u00f6yl\u00fcyor. (Name Error : name 'y' is not defined) \u015eimdi `x`'i istedi\u011fimiz gibi kullanabiliriz. "
     ]
    },
    {
     "cell_type": "code",
     "collapsed": false,
     "input": [
      "x+1"
     ],
     "language": "python",
     "metadata": {},
     "outputs": [
      {
       "metadata": {},
       "output_type": "pyout",
       "prompt_number": 34,
       "text": [
        "6"
       ]
      }
     ],
     "prompt_number": 34
    },
    {
     "cell_type": "code",
     "collapsed": false,
     "input": [
      "2*x"
     ],
     "language": "python",
     "metadata": {},
     "outputs": [
      {
       "metadata": {},
       "output_type": "pyout",
       "prompt_number": 35,
       "text": [
        "10"
       ]
      }
     ],
     "prompt_number": 35
    },
    {
     "cell_type": "markdown",
     "metadata": {},
     "source": [
      "### Soru:\n",
      "y de\u011fi\u015fkenine bir say\u0131 atay\u0131n ve a\u015fa\u011f\u0131daki hesaplamalar\u0131 yap\u0131n."
     ]
    },
    {
     "cell_type": "code",
     "collapsed": true,
     "input": [
      "y="
     ],
     "language": "python",
     "metadata": {},
     "outputs": [],
     "prompt_number": null
    },
    {
     "cell_type": "code",
     "collapsed": true,
     "input": [
      "y+37"
     ],
     "language": "python",
     "metadata": {},
     "outputs": [],
     "prompt_number": null
    },
    {
     "cell_type": "code",
     "collapsed": true,
     "input": [
      "0.5*y + x"
     ],
     "language": "python",
     "metadata": {},
     "outputs": [],
     "prompt_number": null
    },
    {
     "cell_type": "markdown",
     "metadata": {},
     "source": [
      "Ayn\u0131 zamanda birka\u00e7 de\u011fi\u015fkene de\u011fer atayabiliriz. Bunun i\u00e7in"
     ]
    },
    {
     "cell_type": "code",
     "collapsed": true,
     "input": [
      "a= 3\n",
      "b= 5\n",
      "c= 6"
     ],
     "language": "python",
     "metadata": {},
     "outputs": [],
     "prompt_number": 37
    },
    {
     "cell_type": "code",
     "collapsed": false,
     "input": [
      "a+b+c"
     ],
     "language": "python",
     "metadata": {},
     "outputs": [
      {
       "metadata": {},
       "output_type": "pyout",
       "prompt_number": 38,
       "text": [
        "14"
       ]
      }
     ],
     "prompt_number": 38
    },
    {
     "cell_type": "markdown",
     "metadata": {},
     "source": [
      "## Listeler\n",
      "Python'un faydal\u0131 bir arac\u0131 *liste*dir. Liste sayesinde bir\u00e7ok de\u011feri bir liste olarak saklayabiliriz.Bunun i\u00e7in de\u011fi\u015fkenin \u00f6n\u00fcne \"[ ]\" k\u00f6\u015feli parantez konur  ve liste i\u00e7indeki de\u011ferler virg\u00fclle ayr\u0131l\u0131r."
     ]
    },
    {
     "cell_type": "code",
     "collapsed": true,
     "input": [
      "L= [21,13,34,43,45]"
     ],
     "language": "python",
     "metadata": {},
     "outputs": [],
     "prompt_number": 41
    },
    {
     "cell_type": "code",
     "collapsed": false,
     "input": [
      "print(L)"
     ],
     "language": "python",
     "metadata": {},
     "outputs": [
      {
       "output_type": "stream",
       "stream": "stdout",
       "text": [
        "[21, 13, 34, 43, 45]"
       ]
      }
     ],
     "prompt_number": 42
    },
    {
     "cell_type": "markdown",
     "metadata": {},
     "source": [
      "Liste i\u00e7indeki say\u0131lar *s\u0131f\u0131rdan (0)* itibaren say\u0131lmaya ba\u015flan\u0131r. \u00d6rnek olarak L'nin birinci eleman\u0131n\u0131n\u0131 \u00e7a\u011f\u0131rmak istersek:"
     ]
    },
    {
     "cell_type": "code",
     "collapsed": false,
     "input": [
      "L[0]"
     ],
     "language": "python",
     "metadata": {},
     "outputs": [
      {
       "metadata": {},
       "output_type": "pyout",
       "prompt_number": 43,
       "text": [
        "21"
       ]
      }
     ],
     "prompt_number": 43
    },
    {
     "cell_type": "code",
     "collapsed": false,
     "input": [
      "L[4]"
     ],
     "language": "python",
     "metadata": {},
     "outputs": [
      {
       "metadata": {},
       "output_type": "pyout",
       "prompt_number": 44,
       "text": [
        "45"
       ]
      }
     ],
     "prompt_number": 44
    },
    {
     "cell_type": "markdown",
     "metadata": {},
     "source": [
      "Liste'nin i\u00e7indeki de\u011ferleri istersek de\u011fi\u015ftirebiliriz."
     ]
    },
    {
     "cell_type": "code",
     "collapsed": true,
     "input": [
      "L[0]=89"
     ],
     "language": "python",
     "metadata": {},
     "outputs": [],
     "prompt_number": 45
    },
    {
     "cell_type": "code",
     "collapsed": false,
     "input": [
      "print(L)"
     ],
     "language": "python",
     "metadata": {},
     "outputs": [
      {
       "output_type": "stream",
       "stream": "stdout",
       "text": [
        "[89, 13, 34, 43, 45]"
       ]
      }
     ],
     "prompt_number": 46
    },
    {
     "cell_type": "markdown",
     "metadata": {},
     "source": [
      "### Soru:\n",
      "\u0130\u00e7inde 10 eleman\u0131 olan bir G listesi olu\u015fturun. Listenin i\u00e7inden baz\u0131 \u00f6zel de\u011ferleri \u00e7a\u011f\u0131r\u0131n."
     ]
    },
    {
     "cell_type": "code",
     "collapsed": true,
     "input": [
      "G= []"
     ],
     "language": "python",
     "metadata": {},
     "outputs": [],
     "prompt_number": 56
    },
    {
     "cell_type": "code",
     "collapsed": true,
     "input": [
      "G[0]"
     ],
     "language": "python",
     "metadata": {},
     "outputs": [],
     "prompt_number": null
    },
    {
     "cell_type": "code",
     "collapsed": true,
     "input": [
      "G[3]"
     ],
     "language": "python",
     "metadata": {},
     "outputs": [],
     "prompt_number": null
    },
    {
     "cell_type": "markdown",
     "metadata": {},
     "source": [
      "E\u011fer G[10]'u \u00e7a\u011f\u0131r\u0131rsan\u0131z nas\u0131l bir sonu\u00e7 al\u0131rs\u0131n\u0131z?"
     ]
    },
    {
     "cell_type": "code",
     "collapsed": true,
     "input": [
      "G[10]"
     ],
     "language": "python",
     "metadata": {},
     "outputs": [],
     "prompt_number": null
    },
    {
     "cell_type": "markdown",
     "metadata": {},
     "source": [
      "Listeye yeni elemanlarda ekleyebilirsiniz. Bunnun i\u00e7in `append`komutunu kullanacaks\u0131n\u0131z."
     ]
    },
    {
     "cell_type": "code",
     "collapsed": true,
     "input": [
      "z = [1,2,3,4,5]"
     ],
     "language": "python",
     "metadata": {},
     "outputs": [],
     "prompt_number": 48
    },
    {
     "cell_type": "code",
     "collapsed": false,
     "input": [
      "print(z)"
     ],
     "language": "python",
     "metadata": {},
     "outputs": [
      {
       "output_type": "stream",
       "stream": "stdout",
       "text": [
        "[1, 2, 3, 4, 5]"
       ]
      }
     ],
     "prompt_number": 49
    },
    {
     "cell_type": "code",
     "collapsed": true,
     "input": [
      "z.append(6)"
     ],
     "language": "python",
     "metadata": {},
     "outputs": [],
     "prompt_number": 50
    },
    {
     "cell_type": "code",
     "collapsed": false,
     "input": [
      "print(z)"
     ],
     "language": "python",
     "metadata": {},
     "outputs": [
      {
       "output_type": "stream",
       "stream": "stdout",
       "text": [
        "[1, 2, 3, 4, 5, 6]"
       ]
      }
     ],
     "prompt_number": 51
    }
   ],
   "metadata": {}
  }
 ]
}